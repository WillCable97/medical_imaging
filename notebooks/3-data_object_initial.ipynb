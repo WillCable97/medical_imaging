{
 "cells": [
  {
   "cell_type": "code",
   "execution_count": 1,
   "metadata": {},
   "outputs": [],
   "source": [
    "import os \n",
    "import tensorflow as tf"
   ]
  },
  {
   "cell_type": "code",
   "execution_count": 2,
   "metadata": {},
   "outputs": [],
   "source": [
    "root_dir = \"../\"\n",
    "root_dir = os.path.abspath(root_dir)\n",
    "data_path = os.path.join(root_dir, \"data\")\n",
    "processed_path = os.path.join(data_path, \"processed\")"
   ]
  },
  {
   "cell_type": "code",
   "execution_count": 3,
   "metadata": {},
   "outputs": [
    {
     "data": {
      "text/plain": [
       "['c:\\\\Users\\\\willi\\\\Desktop\\\\AIPortfolio\\\\medical_imaging\\\\data\\\\processed\\\\record1.tfrecords',\n",
       " 'c:\\\\Users\\\\willi\\\\Desktop\\\\AIPortfolio\\\\medical_imaging\\\\data\\\\processed\\\\record10.tfrecords',\n",
       " 'c:\\\\Users\\\\willi\\\\Desktop\\\\AIPortfolio\\\\medical_imaging\\\\data\\\\processed\\\\record100.tfrecords',\n",
       " 'c:\\\\Users\\\\willi\\\\Desktop\\\\AIPortfolio\\\\medical_imaging\\\\data\\\\processed\\\\record101.tfrecords',\n",
       " 'c:\\\\Users\\\\willi\\\\Desktop\\\\AIPortfolio\\\\medical_imaging\\\\data\\\\processed\\\\record102.tfrecords',\n",
       " 'c:\\\\Users\\\\willi\\\\Desktop\\\\AIPortfolio\\\\medical_imaging\\\\data\\\\processed\\\\record103.tfrecords',\n",
       " 'c:\\\\Users\\\\willi\\\\Desktop\\\\AIPortfolio\\\\medical_imaging\\\\data\\\\processed\\\\record104.tfrecords',\n",
       " 'c:\\\\Users\\\\willi\\\\Desktop\\\\AIPortfolio\\\\medical_imaging\\\\data\\\\processed\\\\record105.tfrecords',\n",
       " 'c:\\\\Users\\\\willi\\\\Desktop\\\\AIPortfolio\\\\medical_imaging\\\\data\\\\processed\\\\record106.tfrecords',\n",
       " 'c:\\\\Users\\\\willi\\\\Desktop\\\\AIPortfolio\\\\medical_imaging\\\\data\\\\processed\\\\record107.tfrecords',\n",
       " 'c:\\\\Users\\\\willi\\\\Desktop\\\\AIPortfolio\\\\medical_imaging\\\\data\\\\processed\\\\record108.tfrecords',\n",
       " 'c:\\\\Users\\\\willi\\\\Desktop\\\\AIPortfolio\\\\medical_imaging\\\\data\\\\processed\\\\record109.tfrecords',\n",
       " 'c:\\\\Users\\\\willi\\\\Desktop\\\\AIPortfolio\\\\medical_imaging\\\\data\\\\processed\\\\record11.tfrecords',\n",
       " 'c:\\\\Users\\\\willi\\\\Desktop\\\\AIPortfolio\\\\medical_imaging\\\\data\\\\processed\\\\record110.tfrecords',\n",
       " 'c:\\\\Users\\\\willi\\\\Desktop\\\\AIPortfolio\\\\medical_imaging\\\\data\\\\processed\\\\record111.tfrecords',\n",
       " 'c:\\\\Users\\\\willi\\\\Desktop\\\\AIPortfolio\\\\medical_imaging\\\\data\\\\processed\\\\record112.tfrecords',\n",
       " 'c:\\\\Users\\\\willi\\\\Desktop\\\\AIPortfolio\\\\medical_imaging\\\\data\\\\processed\\\\record113.tfrecords',\n",
       " 'c:\\\\Users\\\\willi\\\\Desktop\\\\AIPortfolio\\\\medical_imaging\\\\data\\\\processed\\\\record114.tfrecords',\n",
       " 'c:\\\\Users\\\\willi\\\\Desktop\\\\AIPortfolio\\\\medical_imaging\\\\data\\\\processed\\\\record115.tfrecords',\n",
       " 'c:\\\\Users\\\\willi\\\\Desktop\\\\AIPortfolio\\\\medical_imaging\\\\data\\\\processed\\\\record116.tfrecords',\n",
       " 'c:\\\\Users\\\\willi\\\\Desktop\\\\AIPortfolio\\\\medical_imaging\\\\data\\\\processed\\\\record117.tfrecords',\n",
       " 'c:\\\\Users\\\\willi\\\\Desktop\\\\AIPortfolio\\\\medical_imaging\\\\data\\\\processed\\\\record118.tfrecords',\n",
       " 'c:\\\\Users\\\\willi\\\\Desktop\\\\AIPortfolio\\\\medical_imaging\\\\data\\\\processed\\\\record119.tfrecords',\n",
       " 'c:\\\\Users\\\\willi\\\\Desktop\\\\AIPortfolio\\\\medical_imaging\\\\data\\\\processed\\\\record12.tfrecords',\n",
       " 'c:\\\\Users\\\\willi\\\\Desktop\\\\AIPortfolio\\\\medical_imaging\\\\data\\\\processed\\\\record120.tfrecords',\n",
       " 'c:\\\\Users\\\\willi\\\\Desktop\\\\AIPortfolio\\\\medical_imaging\\\\data\\\\processed\\\\record121.tfrecords',\n",
       " 'c:\\\\Users\\\\willi\\\\Desktop\\\\AIPortfolio\\\\medical_imaging\\\\data\\\\processed\\\\record122.tfrecords',\n",
       " 'c:\\\\Users\\\\willi\\\\Desktop\\\\AIPortfolio\\\\medical_imaging\\\\data\\\\processed\\\\record123.tfrecords',\n",
       " 'c:\\\\Users\\\\willi\\\\Desktop\\\\AIPortfolio\\\\medical_imaging\\\\data\\\\processed\\\\record124.tfrecords',\n",
       " 'c:\\\\Users\\\\willi\\\\Desktop\\\\AIPortfolio\\\\medical_imaging\\\\data\\\\processed\\\\record125.tfrecords',\n",
       " 'c:\\\\Users\\\\willi\\\\Desktop\\\\AIPortfolio\\\\medical_imaging\\\\data\\\\processed\\\\record126.tfrecords',\n",
       " 'c:\\\\Users\\\\willi\\\\Desktop\\\\AIPortfolio\\\\medical_imaging\\\\data\\\\processed\\\\record127.tfrecords',\n",
       " 'c:\\\\Users\\\\willi\\\\Desktop\\\\AIPortfolio\\\\medical_imaging\\\\data\\\\processed\\\\record128.tfrecords',\n",
       " 'c:\\\\Users\\\\willi\\\\Desktop\\\\AIPortfolio\\\\medical_imaging\\\\data\\\\processed\\\\record129.tfrecords',\n",
       " 'c:\\\\Users\\\\willi\\\\Desktop\\\\AIPortfolio\\\\medical_imaging\\\\data\\\\processed\\\\record13.tfrecords',\n",
       " 'c:\\\\Users\\\\willi\\\\Desktop\\\\AIPortfolio\\\\medical_imaging\\\\data\\\\processed\\\\record130.tfrecords',\n",
       " 'c:\\\\Users\\\\willi\\\\Desktop\\\\AIPortfolio\\\\medical_imaging\\\\data\\\\processed\\\\record131.tfrecords',\n",
       " 'c:\\\\Users\\\\willi\\\\Desktop\\\\AIPortfolio\\\\medical_imaging\\\\data\\\\processed\\\\record132.tfrecords',\n",
       " 'c:\\\\Users\\\\willi\\\\Desktop\\\\AIPortfolio\\\\medical_imaging\\\\data\\\\processed\\\\record133.tfrecords',\n",
       " 'c:\\\\Users\\\\willi\\\\Desktop\\\\AIPortfolio\\\\medical_imaging\\\\data\\\\processed\\\\record134.tfrecords',\n",
       " 'c:\\\\Users\\\\willi\\\\Desktop\\\\AIPortfolio\\\\medical_imaging\\\\data\\\\processed\\\\record135.tfrecords',\n",
       " 'c:\\\\Users\\\\willi\\\\Desktop\\\\AIPortfolio\\\\medical_imaging\\\\data\\\\processed\\\\record136.tfrecords',\n",
       " 'c:\\\\Users\\\\willi\\\\Desktop\\\\AIPortfolio\\\\medical_imaging\\\\data\\\\processed\\\\record137.tfrecords',\n",
       " 'c:\\\\Users\\\\willi\\\\Desktop\\\\AIPortfolio\\\\medical_imaging\\\\data\\\\processed\\\\record138.tfrecords',\n",
       " 'c:\\\\Users\\\\willi\\\\Desktop\\\\AIPortfolio\\\\medical_imaging\\\\data\\\\processed\\\\record139.tfrecords',\n",
       " 'c:\\\\Users\\\\willi\\\\Desktop\\\\AIPortfolio\\\\medical_imaging\\\\data\\\\processed\\\\record14.tfrecords',\n",
       " 'c:\\\\Users\\\\willi\\\\Desktop\\\\AIPortfolio\\\\medical_imaging\\\\data\\\\processed\\\\record140.tfrecords',\n",
       " 'c:\\\\Users\\\\willi\\\\Desktop\\\\AIPortfolio\\\\medical_imaging\\\\data\\\\processed\\\\record141.tfrecords',\n",
       " 'c:\\\\Users\\\\willi\\\\Desktop\\\\AIPortfolio\\\\medical_imaging\\\\data\\\\processed\\\\record142.tfrecords',\n",
       " 'c:\\\\Users\\\\willi\\\\Desktop\\\\AIPortfolio\\\\medical_imaging\\\\data\\\\processed\\\\record143.tfrecords',\n",
       " 'c:\\\\Users\\\\willi\\\\Desktop\\\\AIPortfolio\\\\medical_imaging\\\\data\\\\processed\\\\record144.tfrecords',\n",
       " 'c:\\\\Users\\\\willi\\\\Desktop\\\\AIPortfolio\\\\medical_imaging\\\\data\\\\processed\\\\record145.tfrecords',\n",
       " 'c:\\\\Users\\\\willi\\\\Desktop\\\\AIPortfolio\\\\medical_imaging\\\\data\\\\processed\\\\record146.tfrecords',\n",
       " 'c:\\\\Users\\\\willi\\\\Desktop\\\\AIPortfolio\\\\medical_imaging\\\\data\\\\processed\\\\record147.tfrecords',\n",
       " 'c:\\\\Users\\\\willi\\\\Desktop\\\\AIPortfolio\\\\medical_imaging\\\\data\\\\processed\\\\record148.tfrecords',\n",
       " 'c:\\\\Users\\\\willi\\\\Desktop\\\\AIPortfolio\\\\medical_imaging\\\\data\\\\processed\\\\record149.tfrecords',\n",
       " 'c:\\\\Users\\\\willi\\\\Desktop\\\\AIPortfolio\\\\medical_imaging\\\\data\\\\processed\\\\record15.tfrecords',\n",
       " 'c:\\\\Users\\\\willi\\\\Desktop\\\\AIPortfolio\\\\medical_imaging\\\\data\\\\processed\\\\record150.tfrecords',\n",
       " 'c:\\\\Users\\\\willi\\\\Desktop\\\\AIPortfolio\\\\medical_imaging\\\\data\\\\processed\\\\record151.tfrecords',\n",
       " 'c:\\\\Users\\\\willi\\\\Desktop\\\\AIPortfolio\\\\medical_imaging\\\\data\\\\processed\\\\record152.tfrecords',\n",
       " 'c:\\\\Users\\\\willi\\\\Desktop\\\\AIPortfolio\\\\medical_imaging\\\\data\\\\processed\\\\record153.tfrecords',\n",
       " 'c:\\\\Users\\\\willi\\\\Desktop\\\\AIPortfolio\\\\medical_imaging\\\\data\\\\processed\\\\record154.tfrecords',\n",
       " 'c:\\\\Users\\\\willi\\\\Desktop\\\\AIPortfolio\\\\medical_imaging\\\\data\\\\processed\\\\record155.tfrecords',\n",
       " 'c:\\\\Users\\\\willi\\\\Desktop\\\\AIPortfolio\\\\medical_imaging\\\\data\\\\processed\\\\record156.tfrecords',\n",
       " 'c:\\\\Users\\\\willi\\\\Desktop\\\\AIPortfolio\\\\medical_imaging\\\\data\\\\processed\\\\record157.tfrecords',\n",
       " 'c:\\\\Users\\\\willi\\\\Desktop\\\\AIPortfolio\\\\medical_imaging\\\\data\\\\processed\\\\record158.tfrecords',\n",
       " 'c:\\\\Users\\\\willi\\\\Desktop\\\\AIPortfolio\\\\medical_imaging\\\\data\\\\processed\\\\record159.tfrecords',\n",
       " 'c:\\\\Users\\\\willi\\\\Desktop\\\\AIPortfolio\\\\medical_imaging\\\\data\\\\processed\\\\record16.tfrecords',\n",
       " 'c:\\\\Users\\\\willi\\\\Desktop\\\\AIPortfolio\\\\medical_imaging\\\\data\\\\processed\\\\record160.tfrecords',\n",
       " 'c:\\\\Users\\\\willi\\\\Desktop\\\\AIPortfolio\\\\medical_imaging\\\\data\\\\processed\\\\record161.tfrecords',\n",
       " 'c:\\\\Users\\\\willi\\\\Desktop\\\\AIPortfolio\\\\medical_imaging\\\\data\\\\processed\\\\record17.tfrecords',\n",
       " 'c:\\\\Users\\\\willi\\\\Desktop\\\\AIPortfolio\\\\medical_imaging\\\\data\\\\processed\\\\record18.tfrecords',\n",
       " 'c:\\\\Users\\\\willi\\\\Desktop\\\\AIPortfolio\\\\medical_imaging\\\\data\\\\processed\\\\record19.tfrecords',\n",
       " 'c:\\\\Users\\\\willi\\\\Desktop\\\\AIPortfolio\\\\medical_imaging\\\\data\\\\processed\\\\record2.tfrecords',\n",
       " 'c:\\\\Users\\\\willi\\\\Desktop\\\\AIPortfolio\\\\medical_imaging\\\\data\\\\processed\\\\record20.tfrecords',\n",
       " 'c:\\\\Users\\\\willi\\\\Desktop\\\\AIPortfolio\\\\medical_imaging\\\\data\\\\processed\\\\record21.tfrecords',\n",
       " 'c:\\\\Users\\\\willi\\\\Desktop\\\\AIPortfolio\\\\medical_imaging\\\\data\\\\processed\\\\record22.tfrecords',\n",
       " 'c:\\\\Users\\\\willi\\\\Desktop\\\\AIPortfolio\\\\medical_imaging\\\\data\\\\processed\\\\record23.tfrecords',\n",
       " 'c:\\\\Users\\\\willi\\\\Desktop\\\\AIPortfolio\\\\medical_imaging\\\\data\\\\processed\\\\record24.tfrecords',\n",
       " 'c:\\\\Users\\\\willi\\\\Desktop\\\\AIPortfolio\\\\medical_imaging\\\\data\\\\processed\\\\record25.tfrecords',\n",
       " 'c:\\\\Users\\\\willi\\\\Desktop\\\\AIPortfolio\\\\medical_imaging\\\\data\\\\processed\\\\record26.tfrecords',\n",
       " 'c:\\\\Users\\\\willi\\\\Desktop\\\\AIPortfolio\\\\medical_imaging\\\\data\\\\processed\\\\record27.tfrecords',\n",
       " 'c:\\\\Users\\\\willi\\\\Desktop\\\\AIPortfolio\\\\medical_imaging\\\\data\\\\processed\\\\record28.tfrecords',\n",
       " 'c:\\\\Users\\\\willi\\\\Desktop\\\\AIPortfolio\\\\medical_imaging\\\\data\\\\processed\\\\record29.tfrecords',\n",
       " 'c:\\\\Users\\\\willi\\\\Desktop\\\\AIPortfolio\\\\medical_imaging\\\\data\\\\processed\\\\record3.tfrecords',\n",
       " 'c:\\\\Users\\\\willi\\\\Desktop\\\\AIPortfolio\\\\medical_imaging\\\\data\\\\processed\\\\record30.tfrecords',\n",
       " 'c:\\\\Users\\\\willi\\\\Desktop\\\\AIPortfolio\\\\medical_imaging\\\\data\\\\processed\\\\record31.tfrecords',\n",
       " 'c:\\\\Users\\\\willi\\\\Desktop\\\\AIPortfolio\\\\medical_imaging\\\\data\\\\processed\\\\record32.tfrecords',\n",
       " 'c:\\\\Users\\\\willi\\\\Desktop\\\\AIPortfolio\\\\medical_imaging\\\\data\\\\processed\\\\record33.tfrecords',\n",
       " 'c:\\\\Users\\\\willi\\\\Desktop\\\\AIPortfolio\\\\medical_imaging\\\\data\\\\processed\\\\record34.tfrecords',\n",
       " 'c:\\\\Users\\\\willi\\\\Desktop\\\\AIPortfolio\\\\medical_imaging\\\\data\\\\processed\\\\record35.tfrecords',\n",
       " 'c:\\\\Users\\\\willi\\\\Desktop\\\\AIPortfolio\\\\medical_imaging\\\\data\\\\processed\\\\record36.tfrecords',\n",
       " 'c:\\\\Users\\\\willi\\\\Desktop\\\\AIPortfolio\\\\medical_imaging\\\\data\\\\processed\\\\record37.tfrecords',\n",
       " 'c:\\\\Users\\\\willi\\\\Desktop\\\\AIPortfolio\\\\medical_imaging\\\\data\\\\processed\\\\record38.tfrecords',\n",
       " 'c:\\\\Users\\\\willi\\\\Desktop\\\\AIPortfolio\\\\medical_imaging\\\\data\\\\processed\\\\record39.tfrecords',\n",
       " 'c:\\\\Users\\\\willi\\\\Desktop\\\\AIPortfolio\\\\medical_imaging\\\\data\\\\processed\\\\record4.tfrecords',\n",
       " 'c:\\\\Users\\\\willi\\\\Desktop\\\\AIPortfolio\\\\medical_imaging\\\\data\\\\processed\\\\record40.tfrecords',\n",
       " 'c:\\\\Users\\\\willi\\\\Desktop\\\\AIPortfolio\\\\medical_imaging\\\\data\\\\processed\\\\record41.tfrecords',\n",
       " 'c:\\\\Users\\\\willi\\\\Desktop\\\\AIPortfolio\\\\medical_imaging\\\\data\\\\processed\\\\record42.tfrecords',\n",
       " 'c:\\\\Users\\\\willi\\\\Desktop\\\\AIPortfolio\\\\medical_imaging\\\\data\\\\processed\\\\record43.tfrecords',\n",
       " 'c:\\\\Users\\\\willi\\\\Desktop\\\\AIPortfolio\\\\medical_imaging\\\\data\\\\processed\\\\record44.tfrecords',\n",
       " 'c:\\\\Users\\\\willi\\\\Desktop\\\\AIPortfolio\\\\medical_imaging\\\\data\\\\processed\\\\record45.tfrecords',\n",
       " 'c:\\\\Users\\\\willi\\\\Desktop\\\\AIPortfolio\\\\medical_imaging\\\\data\\\\processed\\\\record46.tfrecords',\n",
       " 'c:\\\\Users\\\\willi\\\\Desktop\\\\AIPortfolio\\\\medical_imaging\\\\data\\\\processed\\\\record47.tfrecords',\n",
       " 'c:\\\\Users\\\\willi\\\\Desktop\\\\AIPortfolio\\\\medical_imaging\\\\data\\\\processed\\\\record48.tfrecords',\n",
       " 'c:\\\\Users\\\\willi\\\\Desktop\\\\AIPortfolio\\\\medical_imaging\\\\data\\\\processed\\\\record49.tfrecords',\n",
       " 'c:\\\\Users\\\\willi\\\\Desktop\\\\AIPortfolio\\\\medical_imaging\\\\data\\\\processed\\\\record5.tfrecords',\n",
       " 'c:\\\\Users\\\\willi\\\\Desktop\\\\AIPortfolio\\\\medical_imaging\\\\data\\\\processed\\\\record50.tfrecords',\n",
       " 'c:\\\\Users\\\\willi\\\\Desktop\\\\AIPortfolio\\\\medical_imaging\\\\data\\\\processed\\\\record51.tfrecords',\n",
       " 'c:\\\\Users\\\\willi\\\\Desktop\\\\AIPortfolio\\\\medical_imaging\\\\data\\\\processed\\\\record52.tfrecords',\n",
       " 'c:\\\\Users\\\\willi\\\\Desktop\\\\AIPortfolio\\\\medical_imaging\\\\data\\\\processed\\\\record53.tfrecords',\n",
       " 'c:\\\\Users\\\\willi\\\\Desktop\\\\AIPortfolio\\\\medical_imaging\\\\data\\\\processed\\\\record54.tfrecords',\n",
       " 'c:\\\\Users\\\\willi\\\\Desktop\\\\AIPortfolio\\\\medical_imaging\\\\data\\\\processed\\\\record55.tfrecords',\n",
       " 'c:\\\\Users\\\\willi\\\\Desktop\\\\AIPortfolio\\\\medical_imaging\\\\data\\\\processed\\\\record56.tfrecords',\n",
       " 'c:\\\\Users\\\\willi\\\\Desktop\\\\AIPortfolio\\\\medical_imaging\\\\data\\\\processed\\\\record57.tfrecords',\n",
       " 'c:\\\\Users\\\\willi\\\\Desktop\\\\AIPortfolio\\\\medical_imaging\\\\data\\\\processed\\\\record58.tfrecords',\n",
       " 'c:\\\\Users\\\\willi\\\\Desktop\\\\AIPortfolio\\\\medical_imaging\\\\data\\\\processed\\\\record59.tfrecords',\n",
       " 'c:\\\\Users\\\\willi\\\\Desktop\\\\AIPortfolio\\\\medical_imaging\\\\data\\\\processed\\\\record6.tfrecords',\n",
       " 'c:\\\\Users\\\\willi\\\\Desktop\\\\AIPortfolio\\\\medical_imaging\\\\data\\\\processed\\\\record60.tfrecords',\n",
       " 'c:\\\\Users\\\\willi\\\\Desktop\\\\AIPortfolio\\\\medical_imaging\\\\data\\\\processed\\\\record61.tfrecords',\n",
       " 'c:\\\\Users\\\\willi\\\\Desktop\\\\AIPortfolio\\\\medical_imaging\\\\data\\\\processed\\\\record62.tfrecords',\n",
       " 'c:\\\\Users\\\\willi\\\\Desktop\\\\AIPortfolio\\\\medical_imaging\\\\data\\\\processed\\\\record63.tfrecords',\n",
       " 'c:\\\\Users\\\\willi\\\\Desktop\\\\AIPortfolio\\\\medical_imaging\\\\data\\\\processed\\\\record64.tfrecords',\n",
       " 'c:\\\\Users\\\\willi\\\\Desktop\\\\AIPortfolio\\\\medical_imaging\\\\data\\\\processed\\\\record65.tfrecords',\n",
       " 'c:\\\\Users\\\\willi\\\\Desktop\\\\AIPortfolio\\\\medical_imaging\\\\data\\\\processed\\\\record66.tfrecords',\n",
       " 'c:\\\\Users\\\\willi\\\\Desktop\\\\AIPortfolio\\\\medical_imaging\\\\data\\\\processed\\\\record67.tfrecords',\n",
       " 'c:\\\\Users\\\\willi\\\\Desktop\\\\AIPortfolio\\\\medical_imaging\\\\data\\\\processed\\\\record68.tfrecords',\n",
       " 'c:\\\\Users\\\\willi\\\\Desktop\\\\AIPortfolio\\\\medical_imaging\\\\data\\\\processed\\\\record69.tfrecords',\n",
       " 'c:\\\\Users\\\\willi\\\\Desktop\\\\AIPortfolio\\\\medical_imaging\\\\data\\\\processed\\\\record7.tfrecords',\n",
       " 'c:\\\\Users\\\\willi\\\\Desktop\\\\AIPortfolio\\\\medical_imaging\\\\data\\\\processed\\\\record70.tfrecords',\n",
       " 'c:\\\\Users\\\\willi\\\\Desktop\\\\AIPortfolio\\\\medical_imaging\\\\data\\\\processed\\\\record71.tfrecords',\n",
       " 'c:\\\\Users\\\\willi\\\\Desktop\\\\AIPortfolio\\\\medical_imaging\\\\data\\\\processed\\\\record72.tfrecords',\n",
       " 'c:\\\\Users\\\\willi\\\\Desktop\\\\AIPortfolio\\\\medical_imaging\\\\data\\\\processed\\\\record73.tfrecords',\n",
       " 'c:\\\\Users\\\\willi\\\\Desktop\\\\AIPortfolio\\\\medical_imaging\\\\data\\\\processed\\\\record74.tfrecords',\n",
       " 'c:\\\\Users\\\\willi\\\\Desktop\\\\AIPortfolio\\\\medical_imaging\\\\data\\\\processed\\\\record75.tfrecords',\n",
       " 'c:\\\\Users\\\\willi\\\\Desktop\\\\AIPortfolio\\\\medical_imaging\\\\data\\\\processed\\\\record76.tfrecords',\n",
       " 'c:\\\\Users\\\\willi\\\\Desktop\\\\AIPortfolio\\\\medical_imaging\\\\data\\\\processed\\\\record77.tfrecords',\n",
       " 'c:\\\\Users\\\\willi\\\\Desktop\\\\AIPortfolio\\\\medical_imaging\\\\data\\\\processed\\\\record78.tfrecords',\n",
       " 'c:\\\\Users\\\\willi\\\\Desktop\\\\AIPortfolio\\\\medical_imaging\\\\data\\\\processed\\\\record79.tfrecords',\n",
       " 'c:\\\\Users\\\\willi\\\\Desktop\\\\AIPortfolio\\\\medical_imaging\\\\data\\\\processed\\\\record8.tfrecords',\n",
       " 'c:\\\\Users\\\\willi\\\\Desktop\\\\AIPortfolio\\\\medical_imaging\\\\data\\\\processed\\\\record80.tfrecords',\n",
       " 'c:\\\\Users\\\\willi\\\\Desktop\\\\AIPortfolio\\\\medical_imaging\\\\data\\\\processed\\\\record81.tfrecords',\n",
       " 'c:\\\\Users\\\\willi\\\\Desktop\\\\AIPortfolio\\\\medical_imaging\\\\data\\\\processed\\\\record82.tfrecords',\n",
       " 'c:\\\\Users\\\\willi\\\\Desktop\\\\AIPortfolio\\\\medical_imaging\\\\data\\\\processed\\\\record83.tfrecords',\n",
       " 'c:\\\\Users\\\\willi\\\\Desktop\\\\AIPortfolio\\\\medical_imaging\\\\data\\\\processed\\\\record84.tfrecords',\n",
       " 'c:\\\\Users\\\\willi\\\\Desktop\\\\AIPortfolio\\\\medical_imaging\\\\data\\\\processed\\\\record85.tfrecords',\n",
       " 'c:\\\\Users\\\\willi\\\\Desktop\\\\AIPortfolio\\\\medical_imaging\\\\data\\\\processed\\\\record86.tfrecords',\n",
       " 'c:\\\\Users\\\\willi\\\\Desktop\\\\AIPortfolio\\\\medical_imaging\\\\data\\\\processed\\\\record87.tfrecords',\n",
       " 'c:\\\\Users\\\\willi\\\\Desktop\\\\AIPortfolio\\\\medical_imaging\\\\data\\\\processed\\\\record88.tfrecords',\n",
       " 'c:\\\\Users\\\\willi\\\\Desktop\\\\AIPortfolio\\\\medical_imaging\\\\data\\\\processed\\\\record89.tfrecords',\n",
       " 'c:\\\\Users\\\\willi\\\\Desktop\\\\AIPortfolio\\\\medical_imaging\\\\data\\\\processed\\\\record9.tfrecords',\n",
       " 'c:\\\\Users\\\\willi\\\\Desktop\\\\AIPortfolio\\\\medical_imaging\\\\data\\\\processed\\\\record90.tfrecords',\n",
       " 'c:\\\\Users\\\\willi\\\\Desktop\\\\AIPortfolio\\\\medical_imaging\\\\data\\\\processed\\\\record91.tfrecords',\n",
       " 'c:\\\\Users\\\\willi\\\\Desktop\\\\AIPortfolio\\\\medical_imaging\\\\data\\\\processed\\\\record92.tfrecords',\n",
       " 'c:\\\\Users\\\\willi\\\\Desktop\\\\AIPortfolio\\\\medical_imaging\\\\data\\\\processed\\\\record93.tfrecords',\n",
       " 'c:\\\\Users\\\\willi\\\\Desktop\\\\AIPortfolio\\\\medical_imaging\\\\data\\\\processed\\\\record94.tfrecords',\n",
       " 'c:\\\\Users\\\\willi\\\\Desktop\\\\AIPortfolio\\\\medical_imaging\\\\data\\\\processed\\\\record95.tfrecords',\n",
       " 'c:\\\\Users\\\\willi\\\\Desktop\\\\AIPortfolio\\\\medical_imaging\\\\data\\\\processed\\\\record96.tfrecords',\n",
       " 'c:\\\\Users\\\\willi\\\\Desktop\\\\AIPortfolio\\\\medical_imaging\\\\data\\\\processed\\\\record97.tfrecords',\n",
       " 'c:\\\\Users\\\\willi\\\\Desktop\\\\AIPortfolio\\\\medical_imaging\\\\data\\\\processed\\\\record98.tfrecords',\n",
       " 'c:\\\\Users\\\\willi\\\\Desktop\\\\AIPortfolio\\\\medical_imaging\\\\data\\\\processed\\\\record99.tfrecords']"
      ]
     },
     "execution_count": 3,
     "metadata": {},
     "output_type": "execute_result"
    }
   ],
   "source": [
    "file_list =[os.path.join(processed_path, x) for x in os.listdir(processed_path)]\n",
    "file_list = file_list[1:]#.gitkeep\n",
    "file_list"
   ]
  },
  {
   "cell_type": "code",
   "execution_count": 5,
   "metadata": {},
   "outputs": [],
   "source": [
    "def parse_tfrecord_fn(example_proto):\n",
    "    feature_description = {\n",
    "        'height': tf.io.FixedLenFeature([], tf.int64),\n",
    "        'width': tf.io.FixedLenFeature([], tf.int64),\n",
    "        'depth': tf.io.FixedLenFeature([], tf.int64),\n",
    "        'label': tf.io.FixedLenFeature([], tf.int64),\n",
    "        'image_raw': tf.io.FixedLenFeature([], tf.string),\n",
    "    }\n",
    "\n",
    "    example = tf.io.parse_single_example(example_proto, feature_description)\n",
    "    \n",
    "    height = tf.cast(example['height'], tf.int32)\n",
    "    width = tf.cast(example['width'], tf.int32)\n",
    "    depth = tf.cast(example['depth'], tf.int32)\n",
    "    label = tf.cast(example['label'], tf.int32)\n",
    "\n",
    "    image_raw = tf.io.decode_raw(example['image_raw'], tf.int32)\n",
    "    image_raw = tf.cast(image_raw, tf.float32)\n",
    "\n",
    "\n",
    "    image = tf.reshape(image_raw, (256, 256, 24))\n",
    "    label = tf.reshape(label, (1,))\n",
    "\n",
    "\n",
    "\n",
    "     \n",
    "    return image, label"
   ]
  },
  {
   "cell_type": "code",
   "execution_count": 6,
   "metadata": {},
   "outputs": [
    {
     "data": {
      "text/plain": [
       "<TFRecordDatasetV2 element_spec=TensorSpec(shape=(), dtype=tf.string, name=None)>"
      ]
     },
     "execution_count": 6,
     "metadata": {},
     "output_type": "execute_result"
    }
   ],
   "source": [
    "tf_set = tf.data.TFRecordDataset(file_list)\n",
    "tf_set"
   ]
  },
  {
   "cell_type": "code",
   "execution_count": 7,
   "metadata": {},
   "outputs": [
    {
     "data": {
      "text/plain": [
       "<_MapDataset element_spec=(TensorSpec(shape=(256, 256, 24), dtype=tf.float32, name=None), TensorSpec(shape=(1,), dtype=tf.int32, name=None))>"
      ]
     },
     "execution_count": 7,
     "metadata": {},
     "output_type": "execute_result"
    }
   ],
   "source": [
    "tf_set = tf_set.map(parse_tfrecord_fn)\n",
    "tf_set"
   ]
  },
  {
   "cell_type": "code",
   "execution_count": 8,
   "metadata": {},
   "outputs": [
    {
     "name": "stdout",
     "output_type": "stream",
     "text": [
      "(256, 256, 24)\n"
     ]
    }
   ],
   "source": [
    "# Create an iterator and get the next element\n",
    "iterator = iter(tf_set)\n",
    "for i in range(1):\n",
    "    image, label = iterator.get_next()\n",
    "    print(image.shape)"
   ]
  },
  {
   "cell_type": "code",
   "execution_count": 9,
   "metadata": {},
   "outputs": [
    {
     "data": {
      "text/plain": [
       "<_BatchDataset element_spec=(TensorSpec(shape=(10, 256, 256, 24), dtype=tf.float32, name=None), TensorSpec(shape=(10, 1), dtype=tf.int32, name=None))>"
      ]
     },
     "execution_count": 9,
     "metadata": {},
     "output_type": "execute_result"
    }
   ],
   "source": [
    "tf_set=tf_set.shuffle(1000).batch(10, drop_remainder=True)\n",
    "tf_set"
   ]
  },
  {
   "cell_type": "code",
   "execution_count": 10,
   "metadata": {},
   "outputs": [],
   "source": [
    "import keras\n",
    "\n",
    "class DenseOutput(keras.layers.Layer):\n",
    "    def __init__(self, output_classes:int):\n",
    "        super().__init__()\n",
    "        self.flatten_layer = keras.layers.Flatten()\n",
    "        self.dense_1 = keras.layers.Dense(4096, activation='relu')\n",
    "        self.dense_2 = keras.layers.Dense(4096, activation='relu')\n",
    "        self.output_layer = keras.layers.Dense(output_classes, activation='softmax')\n",
    "\n",
    "    def call(self, x):\n",
    "        x = self.flatten_layer(x)\n",
    "        x = self.dense_1(x)\n",
    "        x = self.dense_2(x)\n",
    "        x = self.output_layer(x)\n",
    "        return x"
   ]
  },
  {
   "cell_type": "code",
   "execution_count": 11,
   "metadata": {},
   "outputs": [],
   "source": [
    "class ConvComponent(keras.layers.Layer):\n",
    "    def __init__(self, channel_count: int):\n",
    "        super().__init__()\n",
    "        self.conv_1 = keras.layers.Conv2D(channel_count, (3, 3), activation='relu', padding='same')\n",
    "        self.conv_2 = keras.layers.Conv2D(channel_count, (3, 3), activation='relu', padding='same')\n",
    "        self.pool_layer = keras.layers.MaxPooling2D((2,2), strides=(2,2))\n",
    "\n",
    "    def call(self, x):\n",
    "        x = self.conv_1(x)\n",
    "        x = self.conv_2(x)\n",
    "        x = self.pool_layer(x)\n",
    "        return x\n"
   ]
  },
  {
   "cell_type": "code",
   "execution_count": 12,
   "metadata": {},
   "outputs": [],
   "source": [
    "class Vgg16(keras.Model):\n",
    "    def __init__(self, output_classes:int):\n",
    "        super().__init__()\n",
    "        self.initial_pool = keras.layers.MaxPooling2D((5, 5), strides=(5, 5))\n",
    "        self.comp_1 = ConvComponent(64)\n",
    "        self.comp_2 = ConvComponent(128)\n",
    "        self.comp_3 = ConvComponent(256) #all these have only 2 components (slight deviation)\n",
    "        self.comp_4 = ConvComponent(512)\n",
    "        self.comp_5 = ConvComponent(512)\n",
    "        self.connected_layer = DenseOutput(output_classes)\n",
    "\n",
    "    def call(self, inputs):\n",
    "        inputs = self.initial_pool(inputs)\n",
    "        inputs = self.comp_1(inputs)\n",
    "        inputs = self.comp_2(inputs)\n",
    "        inputs = self.comp_3(inputs)\n",
    "        inputs = self.comp_4(inputs)\n",
    "        inputs = self.comp_5(inputs)\n",
    "        inputs = self.connected_layer(inputs)\n",
    "        return inputs"
   ]
  },
  {
   "cell_type": "code",
   "execution_count": null,
   "metadata": {},
   "outputs": [],
   "source": []
  },
  {
   "cell_type": "code",
   "execution_count": 13,
   "metadata": {},
   "outputs": [
    {
     "name": "stdout",
     "output_type": "stream",
     "text": [
      "Epoch 1/10\n"
     ]
    },
    {
     "name": "stdout",
     "output_type": "stream",
     "text": [
      "     14/Unknown \u001b[1m14s\u001b[0m 420ms/step - loss: 9898.9785"
     ]
    }
   ],
   "source": [
    "A = Vgg16(4)\n",
    "A.compile(\"adam\", keras.losses.SparseCategoricalCrossentropy())\n",
    "A.fit(tf_set, epochs=10)"
   ]
  },
  {
   "cell_type": "code",
   "execution_count": null,
   "metadata": {},
   "outputs": [],
   "source": []
  },
  {
   "cell_type": "code",
   "execution_count": null,
   "metadata": {},
   "outputs": [],
   "source": []
  },
  {
   "cell_type": "code",
   "execution_count": null,
   "metadata": {},
   "outputs": [],
   "source": []
  },
  {
   "cell_type": "code",
   "execution_count": null,
   "metadata": {},
   "outputs": [],
   "source": [
    "for batch in tf_set:\n",
    "    print(f\"1: {batch[0].shape}\")\n",
    "    print(f\"2: {batch[1].shape}\")\n",
    "    #print(f\"HEREL {batch[0]}\")\n",
    "    #brak"
   ]
  },
  {
   "cell_type": "code",
   "execution_count": null,
   "metadata": {},
   "outputs": [],
   "source": []
  },
  {
   "cell_type": "code",
   "execution_count": null,
   "metadata": {},
   "outputs": [],
   "source": []
  },
  {
   "cell_type": "code",
   "execution_count": null,
   "metadata": {},
   "outputs": [],
   "source": [
    "tf_set = tf.data.TFRecordDataset(file_list)\n",
    "tf_set = tf_set.map(parse_tfrecord_fn)\n",
    "#tf.convert_to_tensor(tf_set)\n",
    "#tf_set = tf_set.map(test_func)\n",
    "#tf_set = tf_set.map(lambda x, y: tf.ensure_shape(x, (256, 256, 38)))\n",
    "#tf_set = tf_set.map(lambda x, y: tf.cast(x, (256, 256, 38)))\n",
    "#tf_set=tf_set.shuffle(1000).batch(10, drop_remainder=True)\n",
    "#tf_set"
   ]
  },
  {
   "cell_type": "code",
   "execution_count": null,
   "metadata": {},
   "outputs": [],
   "source": []
  }
 ],
 "metadata": {
  "kernelspec": {
   "display_name": "Medical_Env",
   "language": "python",
   "name": "python3"
  },
  "language_info": {
   "codemirror_mode": {
    "name": "ipython",
    "version": 3
   },
   "file_extension": ".py",
   "mimetype": "text/x-python",
   "name": "python",
   "nbconvert_exporter": "python",
   "pygments_lexer": "ipython3",
   "version": "3.9.18"
  }
 },
 "nbformat": 4,
 "nbformat_minor": 2
}
